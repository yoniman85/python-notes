{
 "cells": [
  {
   "cell_type": "markdown",
   "id": "da45af00",
   "metadata": {},
   "source": [
    "### Sequencial Data Types\n",
    "Squences are one of the principal built-in-data types besides numerics, mapping, files, instances and eceptions.\n",
    "python provides for six sequences (or sequential) data types:\n",
    "* strings\n",
    "* bytes sequences\n",
    "* byte arrays\n",
    "* lists\n",
    "* tuples\n",
    "* range objects\n"
   ]
  },
  {
   "cell_type": "code",
   "execution_count": 1,
   "id": "64743a69",
   "metadata": {},
   "outputs": [
    {
     "data": {
      "text/plain": [
       "'H'"
      ]
     },
     "execution_count": 1,
     "metadata": {},
     "output_type": "execute_result"
    }
   ],
   "source": [
    "strText=\"Hello world\"\n",
    "strText[0]\n"
   ]
  },
  {
   "cell_type": "code",
   "execution_count": 2,
   "id": "aadbc6db",
   "metadata": {},
   "outputs": [
    {
     "data": {
      "text/plain": [
       "'Vienna'"
      ]
     },
     "execution_count": 2,
     "metadata": {},
     "output_type": "execute_result"
    }
   ],
   "source": [
    "lstCities=[\"Vienna\", \"London\", \"Paris\", \"Berlin\", \"Zurich\", \"Hamburg\"]\n",
    "lstCities[0]"
   ]
  },
  {
   "cell_type": "code",
   "execution_count": 3,
   "id": "e0705960",
   "metadata": {},
   "outputs": [
    {
     "data": {
      "text/plain": [
       "'V'"
      ]
     },
     "execution_count": 3,
     "metadata": {},
     "output_type": "execute_result"
    }
   ],
   "source": [
    "lstCities[0][0]"
   ]
  },
  {
   "cell_type": "code",
   "execution_count": 4,
   "id": "75e087a6",
   "metadata": {},
   "outputs": [
    {
     "data": {
      "text/plain": [
       "'s'"
      ]
     },
     "execution_count": 4,
     "metadata": {},
     "output_type": "execute_result"
    }
   ],
   "source": [
    "lstCities[2][4]"
   ]
  },
  {
   "cell_type": "code",
   "execution_count": 5,
   "id": "3b3b8748",
   "metadata": {},
   "outputs": [
    {
     "data": {
      "text/plain": [
       "'g'"
      ]
     },
     "execution_count": 5,
     "metadata": {},
     "output_type": "execute_result"
    }
   ],
   "source": [
    "lstCities[-1][-1]"
   ]
  },
  {
   "cell_type": "code",
   "execution_count": 6,
   "id": "d1d1a036",
   "metadata": {},
   "outputs": [
    {
     "data": {
      "text/plain": [
       "6"
      ]
     },
     "execution_count": 6,
     "metadata": {},
     "output_type": "execute_result"
    }
   ],
   "source": [
    "len(lstCities)"
   ]
  },
  {
   "cell_type": "code",
   "execution_count": 13,
   "id": "7ffa21c6",
   "metadata": {},
   "outputs": [
    {
     "data": {
      "text/plain": [
       "6"
      ]
     },
     "execution_count": 13,
     "metadata": {},
     "output_type": "execute_result"
    }
   ],
   "source": [
    "len(lstCities)"
   ]
  },
  {
   "cell_type": "code",
   "execution_count": 14,
   "id": "cda7c015",
   "metadata": {},
   "outputs": [],
   "source": [
    "lstFibonacci=[1,1,2,3,5,8,13,21,34,55]"
   ]
  },
  {
   "cell_type": "code",
   "execution_count": 15,
   "id": "32b024a9",
   "metadata": {},
   "outputs": [
    {
     "data": {
      "text/plain": [
       "10"
      ]
     },
     "execution_count": 15,
     "metadata": {},
     "output_type": "execute_result"
    }
   ],
   "source": [
    "len(lstFibonacci)"
   ]
  },
  {
   "cell_type": "code",
   "execution_count": 16,
   "id": "5c65e582",
   "metadata": {},
   "outputs": [
    {
     "data": {
      "text/plain": [
       "3"
      ]
     },
     "execution_count": 16,
     "metadata": {},
     "output_type": "execute_result"
    }
   ],
   "source": [
    "lstFibonacci[3]"
   ]
  },
  {
   "cell_type": "markdown",
   "id": "6e47e0c7",
   "metadata": {},
   "source": [
    "### Create a language list and add values -->python, C, C++, Java and Pearl\n",
    "### print massage that says, First and Second language are quite different"
   ]
  },
  {
   "cell_type": "code",
   "execution_count": 20,
   "id": "a90fc7df",
   "metadata": {},
   "outputs": [
    {
     "name": "stdout",
     "output_type": "stream",
     "text": [
      "python and C are quite different.\n"
     ]
    }
   ],
   "source": [
    "lstLanguages=[\"python\", \"C\", \"C++\", \"Java\", \"Pearl\"]\n",
    "print(lstLanguages[0] + \" and \" + lstLanguages[1] + \" are quite different.\")"
   ]
  },
  {
   "cell_type": "code",
   "execution_count": 34,
   "id": "35253119",
   "metadata": {},
   "outputs": [
    {
     "name": "stdout",
     "output_type": "stream",
     "text": [
      "Name: George Age: 72\n"
     ]
    }
   ],
   "source": [
    "lstGroup = [\"Bob\" , 23, \"George\", 72, \"Myriam\",29]\n",
    "print(\"Name:\" ,lstGroup[2], \"Age:\", lstGroup[3])"
   ]
  },
  {
   "cell_type": "markdown",
   "id": "f881daba",
   "metadata": {},
   "source": [
    "## Main properties of python Lists:\n",
    "* They are ordered\n",
    "* They contain arbitrary objects\n",
    "* Elements of a list cna be accessed by an index\n",
    "* Variable size\n",
    "* They are mutable, i.e. The elements of a list can be changed"
   ]
  },
  {
   "cell_type": "code",
   "execution_count": 38,
   "id": "0b8647aa",
   "metadata": {},
   "outputs": [
    {
     "data": {
      "text/plain": [
       "[1, 1, 2, 3, 5, 8]"
      ]
     },
     "execution_count": 38,
     "metadata": {},
     "output_type": "execute_result"
    }
   ],
   "source": [
    "# Examples \n",
    "[] # An empty list\n",
    "[43, \"What's the question?\" , 3.145] # A list of mixed data types\n",
    "[1,1,2,3,5,8] # A list of integers\n",
    "[\"John\", \"Jane\", \"Jack\", \"Jim\"] # A list of strings\n",
    "[[\"London\",\"England\", 7560], [\"Paris\", \"France\", 219300]] #A list in a list called a nested list\n",
    "[\"High up\",[\"further down\",[\"and down\", [\"deep down\", \"the answer\",43]]]] # Deeply nested list"
   ]
  },
  {
   "cell_type": "code",
   "execution_count": 7,
   "id": "e7455d83",
   "metadata": {},
   "outputs": [
    {
     "data": {
      "text/plain": [
       "'17 New Street'"
      ]
     },
     "execution_count": 7,
     "metadata": {},
     "output_type": "execute_result"
    }
   ],
   "source": [
    "lstperson = [[\"John\", \"Smith\"],[\"17 New Street\",\"12345\",\"London\"], \"0786-7890\"]\n",
    "                                   \n",
    "name = lstperson[0]\n",
    "name\n",
    "streetname = lstperson[1][0]\n",
    "streetname                 \n",
    "#streetname\n",
    "#zipcode = lstperson[-1]\n",
    "#zipcode\n"
   ]
  },
  {
   "cell_type": "code",
   "execution_count": 42,
   "id": "66afd099",
   "metadata": {},
   "outputs": [
    {
     "data": {
      "text/plain": [
       "'x'"
      ]
     },
     "execution_count": 42,
     "metadata": {},
     "output_type": "execute_result"
    }
   ],
   "source": [
    "complex_list = [[\"a\",[\"b\",[\"c\",\"x\"]]],74]\n",
    "#output b,c and x\n",
    "#output c\n",
    "#output = complex_list[0][1]\n",
    "#output\n",
    "complex_list[0][1][1][1]\n",
    "                        \n"
   ]
  },
  {
   "cell_type": "markdown",
   "id": "370a2fac",
   "metadata": {},
   "source": [
    "## Changing List"
   ]
  },
  {
   "cell_type": "code",
   "execution_count": 73,
   "id": "bc34d499",
   "metadata": {},
   "outputs": [
    {
     "data": {
      "text/plain": [
       "['python', 'c', 'C++', 'Java', 'Lisp']"
      ]
     },
     "execution_count": 73,
     "metadata": {},
     "output_type": "execute_result"
    }
   ],
   "source": [
    "prgLanguages = [\"python\",\"c\",\"C++\",\"Java\",\"perl\"]\n",
    "prgLanguages[4] = \"Lisp\"\n",
    "prgLanguages"
   ]
  },
  {
   "cell_type": "code",
   "execution_count": 74,
   "id": "02907412",
   "metadata": {},
   "outputs": [
    {
     "ename": "NameError",
     "evalue": "name 'prglanguage' is not defined",
     "output_type": "error",
     "traceback": [
      "\u001b[1;31m---------------------------------------------------------------------------\u001b[0m",
      "\u001b[1;31mNameError\u001b[0m                                 Traceback (most recent call last)",
      "Cell \u001b[1;32mIn[74], line 1\u001b[0m\n\u001b[1;32m----> 1\u001b[0m prglanguage[\u001b[38;5;241m5\u001b[39m] \u001b[38;5;241m=\u001b[39m \u001b[38;5;124m\"\u001b[39m\u001b[38;5;124mHaskell\u001b[39m\u001b[38;5;124m\"\u001b[39m\n",
      "\u001b[1;31mNameError\u001b[0m: name 'prglanguage' is not defined"
     ]
    }
   ],
   "source": [
    "prglanguage[5] = \"Haskell\""
   ]
  },
  {
   "cell_type": "code",
   "execution_count": 75,
   "id": "3c052412",
   "metadata": {},
   "outputs": [
    {
     "data": {
      "text/plain": [
       "['python', 'c', 'C++', 'Java', 'Lisp', 'Haskell']"
      ]
     },
     "execution_count": 75,
     "metadata": {},
     "output_type": "execute_result"
    }
   ],
   "source": [
    "prgLanguages.append(\"Haskell\") # append is to add to the list at the end\n",
    "prgLanguages"
   ]
  },
  {
   "cell_type": "code",
   "execution_count": 85,
   "id": "6a187bbd",
   "metadata": {},
   "outputs": [],
   "source": [
    "prgLanguages.insert(1,\"perl\")"
   ]
  },
  {
   "cell_type": "code",
   "execution_count": 86,
   "id": "64a7ea60",
   "metadata": {},
   "outputs": [
    {
     "data": {
      "text/plain": [
       "['python',\n",
       " 'perl',\n",
       " 'perl',\n",
       " 'perl',\n",
       " 'perl',\n",
       " 'perl',\n",
       " 'perl',\n",
       " 'perl',\n",
       " 'perl',\n",
       " 'c',\n",
       " 'C++',\n",
       " 'Java',\n",
       " 'Lisp',\n",
       " 'Haskell']"
      ]
     },
     "execution_count": 86,
     "metadata": {},
     "output_type": "execute_result"
    }
   ],
   "source": [
    "prgLanguages"
   ]
  },
  {
   "cell_type": "markdown",
   "id": "c212577b",
   "metadata": {},
   "source": [
    "## Create a shopping list for your groceries and add, milk, yogurt, egg, bread, bananas, butter"
   ]
  },
  {
   "cell_type": "code",
   "execution_count": 43,
   "id": "cc69106b",
   "metadata": {},
   "outputs": [
    {
     "data": {
      "text/plain": [
       "['Avocado']"
      ]
     },
     "execution_count": 43,
     "metadata": {},
     "output_type": "execute_result"
    }
   ],
   "source": [
    "shopping_List = [\"Milk\", \"Yogurt\",\"Bread\", \"Eggs\" , \"Apple\" , \"Avocado\"]\n",
    "cart = []# this is an empty list\n",
    "# pop() - removes the last element of the list and returns it\n",
    "article = shopping_List.pop()# stores banana value to article\n",
    "article\n",
    "cart.append(article)# append to the cart *automic opertation\n",
    "cart"
   ]
  },
  {
   "cell_type": "code",
   "execution_count": 44,
   "id": "297fad7d",
   "metadata": {},
   "outputs": [
    {
     "data": {
      "text/plain": [
       "['Avocado', 'Apple']"
      ]
     },
     "execution_count": 44,
     "metadata": {},
     "output_type": "execute_result"
    }
   ],
   "source": [
    "article = shopping_List.pop()\n",
    "cart.append(article)\n",
    "cart\n"
   ]
  },
  {
   "cell_type": "code",
   "execution_count": 45,
   "id": "ef09c850",
   "metadata": {},
   "outputs": [
    {
     "data": {
      "text/plain": [
       "['Avocado', 'Apple', 'Eggs']"
      ]
     },
     "execution_count": 45,
     "metadata": {},
     "output_type": "execute_result"
    }
   ],
   "source": [
    "article = shopping_List.pop()\n",
    "cart.append(article)\n",
    "cart"
   ]
  },
  {
   "cell_type": "code",
   "execution_count": 105,
   "id": "de953f70",
   "metadata": {},
   "outputs": [
    {
     "data": {
      "text/plain": [
       "['Milk', 'Yogurt', 'Bread', 'Eggs']"
      ]
     },
     "execution_count": 105,
     "metadata": {},
     "output_type": "execute_result"
    }
   ],
   "source": [
    "shopping_List"
   ]
  },
  {
   "cell_type": "code",
   "execution_count": null,
   "id": "e4891536",
   "metadata": {},
   "outputs": [],
   "source": []
  }
 ],
 "metadata": {
  "kernelspec": {
   "display_name": "Python 3 (ipykernel)",
   "language": "python",
   "name": "python3"
  },
  "language_info": {
   "codemirror_mode": {
    "name": "ipython",
    "version": 3
   },
   "file_extension": ".py",
   "mimetype": "text/x-python",
   "name": "python",
   "nbconvert_exporter": "python",
   "pygments_lexer": "ipython3",
   "version": "3.11.5"
  }
 },
 "nbformat": 4,
 "nbformat_minor": 5
}
